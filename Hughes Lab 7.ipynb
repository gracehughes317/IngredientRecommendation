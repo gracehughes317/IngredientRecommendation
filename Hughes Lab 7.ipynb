{
 "cells": [
  {
   "cell_type": "markdown",
   "id": "8170b066",
   "metadata": {},
   "source": [
    "# Final Project Graph ML\n",
    "Grace Hughes"
   ]
  },
  {
   "cell_type": "markdown",
   "id": "d9a39c75",
   "metadata": {},
   "source": [
    "## Purpose of Project"
   ]
  },
  {
   "cell_type": "markdown",
   "id": "41320d7f",
   "metadata": {},
   "source": [
    "The purpose of this project was to use Graph machine learning to pair different, unlikely foods into new combinations. The most prevalent use of graph ML is to find connections between different nodes and use those connections to introduce new ideas (recommendation algorithms, PageRank, etc.) Of these algorithms, most cater to applications in healthcare, advertising, and other commercial uses, but I wanted to do something different. I spend a lot of my free time experimenting in the kitchen and challenging myself to try new things. \n",
    "\n",
    "After working on this project, I did have to scale back my expectations due to my limited experience. So, instead of an algorithm to tell me novel combinations, the algorithm instead is designed to recommend ingredients to add with others based on pre-existing recipes and data. When I'm making up a recipe in the kitchen (often), I find myself wondering what else I could add to it to make it more interesting. This algorithm serves that purpose.\n"
   ]
  },
  {
   "cell_type": "markdown",
   "id": "a62c82ce",
   "metadata": {},
   "source": [
    "## Importing Data"
   ]
  },
  {
   "cell_type": "markdown",
   "id": "ba2993d0",
   "metadata": {},
   "source": [
    "The data used for this lab is from FooDB, one of the largest food databases for public use. It has 1024 different foods and tens of thousands of compounds that are found in foods. I also use a recipe database found on Kaggle (https://www.kaggle.com/datasets/shuyangli94/food-com-recipes-and-user-interactions). This dataset has over 180,000 recipes.\n",
    "\n",
    "From these two datasets, I'm using the ingredient names, food groups, and recipes to map nodes and edges within the graph."
   ]
  },
  {
   "cell_type": "code",
   "execution_count": 1,
   "id": "5ce9817d",
   "metadata": {},
   "outputs": [],
   "source": [
    "import pandas as pd"
   ]
  },
  {
   "cell_type": "code",
   "execution_count": 2,
   "id": "228c6396",
   "metadata": {},
   "outputs": [],
   "source": [
    "food_db = pd.read_csv(\"Food.csv\")"
   ]
  },
  {
   "cell_type": "code",
   "execution_count": 3,
   "id": "f9c14893",
   "metadata": {},
   "outputs": [
    {
     "data": {
      "text/html": [
       "<div>\n",
       "<style scoped>\n",
       "    .dataframe tbody tr th:only-of-type {\n",
       "        vertical-align: middle;\n",
       "    }\n",
       "\n",
       "    .dataframe tbody tr th {\n",
       "        vertical-align: top;\n",
       "    }\n",
       "\n",
       "    .dataframe thead th {\n",
       "        text-align: right;\n",
       "    }\n",
       "</style>\n",
       "<table border=\"1\" class=\"dataframe\">\n",
       "  <thead>\n",
       "    <tr style=\"text-align: right;\">\n",
       "      <th></th>\n",
       "      <th>id</th>\n",
       "      <th>name</th>\n",
       "      <th>name_scientific</th>\n",
       "      <th>description</th>\n",
       "      <th>itis_id</th>\n",
       "      <th>wikipedia_id</th>\n",
       "      <th>picture_file_name</th>\n",
       "      <th>picture_content_type</th>\n",
       "      <th>picture_file_size</th>\n",
       "      <th>picture_updated_at</th>\n",
       "      <th>...</th>\n",
       "      <th>food_type</th>\n",
       "      <th>created_at</th>\n",
       "      <th>updated_at</th>\n",
       "      <th>creator_id</th>\n",
       "      <th>updater_id</th>\n",
       "      <th>export_to_afcdb</th>\n",
       "      <th>category</th>\n",
       "      <th>ncbi_taxonomy_id</th>\n",
       "      <th>export_to_foodb</th>\n",
       "      <th>public_id</th>\n",
       "    </tr>\n",
       "  </thead>\n",
       "  <tbody>\n",
       "    <tr>\n",
       "      <th>0</th>\n",
       "      <td>1</td>\n",
       "      <td>Angelica</td>\n",
       "      <td>Angelica keiskei</td>\n",
       "      <td>Angelica is a genus of about 60 species of tal...</td>\n",
       "      <td>NaN</td>\n",
       "      <td>Angelica</td>\n",
       "      <td>1.jpg</td>\n",
       "      <td>image/jpeg</td>\n",
       "      <td>111325.0</td>\n",
       "      <td>2012-04-20 09:29:57 UTC</td>\n",
       "      <td>...</td>\n",
       "      <td>Type 1</td>\n",
       "      <td>2011-02-09 00:37:14 UTC</td>\n",
       "      <td>2019-05-14 18:04:13 UTC</td>\n",
       "      <td>NaN</td>\n",
       "      <td>2.0</td>\n",
       "      <td>False</td>\n",
       "      <td>specific</td>\n",
       "      <td>357850.0</td>\n",
       "      <td>True</td>\n",
       "      <td>FOOD00001</td>\n",
       "    </tr>\n",
       "    <tr>\n",
       "      <th>1</th>\n",
       "      <td>2</td>\n",
       "      <td>Savoy cabbage</td>\n",
       "      <td>Brassica oleracea var. sabauda</td>\n",
       "      <td>Savoy cabbage (Brassica oleracea convar. capit...</td>\n",
       "      <td>NaN</td>\n",
       "      <td>Savoy cabbage</td>\n",
       "      <td>2.jpg</td>\n",
       "      <td>image/jpeg</td>\n",
       "      <td>155178.0</td>\n",
       "      <td>2012-04-20 09:39:54 UTC</td>\n",
       "      <td>...</td>\n",
       "      <td>Type 1</td>\n",
       "      <td>2011-02-09 00:37:15 UTC</td>\n",
       "      <td>2019-05-14 18:04:13 UTC</td>\n",
       "      <td>NaN</td>\n",
       "      <td>NaN</td>\n",
       "      <td>False</td>\n",
       "      <td>specific</td>\n",
       "      <td>1216010.0</td>\n",
       "      <td>True</td>\n",
       "      <td>FOOD00002</td>\n",
       "    </tr>\n",
       "  </tbody>\n",
       "</table>\n",
       "<p>2 rows × 23 columns</p>\n",
       "</div>"
      ],
      "text/plain": [
       "   id           name                 name_scientific  \\\n",
       "0   1       Angelica                Angelica keiskei   \n",
       "1   2  Savoy cabbage  Brassica oleracea var. sabauda   \n",
       "\n",
       "                                         description  itis_id   wikipedia_id  \\\n",
       "0  Angelica is a genus of about 60 species of tal...      NaN       Angelica   \n",
       "1  Savoy cabbage (Brassica oleracea convar. capit...      NaN  Savoy cabbage   \n",
       "\n",
       "  picture_file_name picture_content_type  picture_file_size  \\\n",
       "0             1.jpg           image/jpeg           111325.0   \n",
       "1             2.jpg           image/jpeg           155178.0   \n",
       "\n",
       "        picture_updated_at  ...  food_type               created_at  \\\n",
       "0  2012-04-20 09:29:57 UTC  ...     Type 1  2011-02-09 00:37:14 UTC   \n",
       "1  2012-04-20 09:39:54 UTC  ...     Type 1  2011-02-09 00:37:15 UTC   \n",
       "\n",
       "                updated_at creator_id updater_id export_to_afcdb  category  \\\n",
       "0  2019-05-14 18:04:13 UTC        NaN        2.0           False  specific   \n",
       "1  2019-05-14 18:04:13 UTC        NaN        NaN           False  specific   \n",
       "\n",
       "   ncbi_taxonomy_id  export_to_foodb  public_id  \n",
       "0          357850.0             True  FOOD00001  \n",
       "1         1216010.0             True  FOOD00002  \n",
       "\n",
       "[2 rows x 23 columns]"
      ]
     },
     "execution_count": 3,
     "metadata": {},
     "output_type": "execute_result"
    }
   ],
   "source": [
    "food_db.head(2)"
   ]
  },
  {
   "cell_type": "code",
   "execution_count": 4,
   "id": "dc3493a8",
   "metadata": {},
   "outputs": [
    {
     "data": {
      "text/html": [
       "<div>\n",
       "<style scoped>\n",
       "    .dataframe tbody tr th:only-of-type {\n",
       "        vertical-align: middle;\n",
       "    }\n",
       "\n",
       "    .dataframe tbody tr th {\n",
       "        vertical-align: top;\n",
       "    }\n",
       "\n",
       "    .dataframe thead th {\n",
       "        text-align: right;\n",
       "    }\n",
       "</style>\n",
       "<table border=\"1\" class=\"dataframe\">\n",
       "  <thead>\n",
       "    <tr style=\"text-align: right;\">\n",
       "      <th></th>\n",
       "      <th>name</th>\n",
       "      <th>id</th>\n",
       "      <th>minutes</th>\n",
       "      <th>contributor_id</th>\n",
       "      <th>submitted</th>\n",
       "      <th>tags</th>\n",
       "      <th>nutrition</th>\n",
       "      <th>n_steps</th>\n",
       "      <th>steps</th>\n",
       "      <th>description</th>\n",
       "      <th>ingredients</th>\n",
       "      <th>n_ingredients</th>\n",
       "    </tr>\n",
       "  </thead>\n",
       "  <tbody>\n",
       "    <tr>\n",
       "      <th>0</th>\n",
       "      <td>arriba   baked winter squash mexican style</td>\n",
       "      <td>137739</td>\n",
       "      <td>55</td>\n",
       "      <td>47892</td>\n",
       "      <td>2005-09-16</td>\n",
       "      <td>['60-minutes-or-less', 'time-to-make', 'course...</td>\n",
       "      <td>[51.5, 0.0, 13.0, 0.0, 2.0, 0.0, 4.0]</td>\n",
       "      <td>11</td>\n",
       "      <td>['make a choice and proceed with recipe', 'dep...</td>\n",
       "      <td>autumn is my favorite time of year to cook! th...</td>\n",
       "      <td>['winter squash', 'mexican seasoning', 'mixed ...</td>\n",
       "      <td>7</td>\n",
       "    </tr>\n",
       "    <tr>\n",
       "      <th>1</th>\n",
       "      <td>a bit different  breakfast pizza</td>\n",
       "      <td>31490</td>\n",
       "      <td>30</td>\n",
       "      <td>26278</td>\n",
       "      <td>2002-06-17</td>\n",
       "      <td>['30-minutes-or-less', 'time-to-make', 'course...</td>\n",
       "      <td>[173.4, 18.0, 0.0, 17.0, 22.0, 35.0, 1.0]</td>\n",
       "      <td>9</td>\n",
       "      <td>['preheat oven to 425 degrees f', 'press dough...</td>\n",
       "      <td>this recipe calls for the crust to be prebaked...</td>\n",
       "      <td>['prepared pizza crust', 'sausage patty', 'egg...</td>\n",
       "      <td>6</td>\n",
       "    </tr>\n",
       "  </tbody>\n",
       "</table>\n",
       "</div>"
      ],
      "text/plain": [
       "                                         name      id  minutes  \\\n",
       "0  arriba   baked winter squash mexican style  137739       55   \n",
       "1            a bit different  breakfast pizza   31490       30   \n",
       "\n",
       "   contributor_id   submitted  \\\n",
       "0           47892  2005-09-16   \n",
       "1           26278  2002-06-17   \n",
       "\n",
       "                                                tags  \\\n",
       "0  ['60-minutes-or-less', 'time-to-make', 'course...   \n",
       "1  ['30-minutes-or-less', 'time-to-make', 'course...   \n",
       "\n",
       "                                   nutrition  n_steps  \\\n",
       "0      [51.5, 0.0, 13.0, 0.0, 2.0, 0.0, 4.0]       11   \n",
       "1  [173.4, 18.0, 0.0, 17.0, 22.0, 35.0, 1.0]        9   \n",
       "\n",
       "                                               steps  \\\n",
       "0  ['make a choice and proceed with recipe', 'dep...   \n",
       "1  ['preheat oven to 425 degrees f', 'press dough...   \n",
       "\n",
       "                                         description  \\\n",
       "0  autumn is my favorite time of year to cook! th...   \n",
       "1  this recipe calls for the crust to be prebaked...   \n",
       "\n",
       "                                         ingredients  n_ingredients  \n",
       "0  ['winter squash', 'mexican seasoning', 'mixed ...              7  \n",
       "1  ['prepared pizza crust', 'sausage patty', 'egg...              6  "
      ]
     },
     "execution_count": 4,
     "metadata": {},
     "output_type": "execute_result"
    }
   ],
   "source": [
    "recipe = pd.read_csv(\"RAW_recipes.csv\")\n",
    "recipe.head(2)"
   ]
  },
  {
   "cell_type": "code",
   "execution_count": 5,
   "id": "f7db4b08",
   "metadata": {},
   "outputs": [
    {
     "data": {
      "text/html": [
       "<div>\n",
       "<style scoped>\n",
       "    .dataframe tbody tr th:only-of-type {\n",
       "        vertical-align: middle;\n",
       "    }\n",
       "\n",
       "    .dataframe tbody tr th {\n",
       "        vertical-align: top;\n",
       "    }\n",
       "\n",
       "    .dataframe thead th {\n",
       "        text-align: right;\n",
       "    }\n",
       "</style>\n",
       "<table border=\"1\" class=\"dataframe\">\n",
       "  <thead>\n",
       "    <tr style=\"text-align: right;\">\n",
       "      <th></th>\n",
       "      <th>id</th>\n",
       "      <th>source_id</th>\n",
       "      <th>source_type</th>\n",
       "      <th>food_id</th>\n",
       "      <th>orig_food_id</th>\n",
       "      <th>orig_food_common_name</th>\n",
       "      <th>orig_food_scientific_name</th>\n",
       "      <th>orig_food_part</th>\n",
       "      <th>orig_source_id</th>\n",
       "      <th>orig_source_name</th>\n",
       "      <th>...</th>\n",
       "      <th>citation_type</th>\n",
       "      <th>creator_id</th>\n",
       "      <th>updater_id</th>\n",
       "      <th>created_at</th>\n",
       "      <th>updated_at</th>\n",
       "      <th>orig_method</th>\n",
       "      <th>orig_unit_expression</th>\n",
       "      <th>standard_content</th>\n",
       "      <th>preparation_type</th>\n",
       "      <th>export</th>\n",
       "    </tr>\n",
       "  </thead>\n",
       "  <tbody>\n",
       "    <tr>\n",
       "      <th>0</th>\n",
       "      <td>1</td>\n",
       "      <td>1</td>\n",
       "      <td>Nutrient</td>\n",
       "      <td>4</td>\n",
       "      <td>29</td>\n",
       "      <td>Kiwi</td>\n",
       "      <td>Actinidia chinensis PLANCHON [Actinidiaceae]</td>\n",
       "      <td>Fruit</td>\n",
       "      <td>FAT</td>\n",
       "      <td>FAT</td>\n",
       "      <td>...</td>\n",
       "      <td>DATABASE</td>\n",
       "      <td>NaN</td>\n",
       "      <td>NaN</td>\n",
       "      <td>2014-11-05 13:42:11 UTC</td>\n",
       "      <td>2019-12-11 20:23:57 UTC</td>\n",
       "      <td>NaN</td>\n",
       "      <td>NaN</td>\n",
       "      <td>1955.00</td>\n",
       "      <td>raw</td>\n",
       "      <td>0</td>\n",
       "    </tr>\n",
       "    <tr>\n",
       "      <th>1</th>\n",
       "      <td>2</td>\n",
       "      <td>1</td>\n",
       "      <td>Nutrient</td>\n",
       "      <td>6</td>\n",
       "      <td>53</td>\n",
       "      <td>Onion</td>\n",
       "      <td>Allium cepa L. [Liliaceae]</td>\n",
       "      <td>Bulb</td>\n",
       "      <td>FAT</td>\n",
       "      <td>FAT</td>\n",
       "      <td>...</td>\n",
       "      <td>DATABASE</td>\n",
       "      <td>NaN</td>\n",
       "      <td>NaN</td>\n",
       "      <td>2014-11-05 13:42:11 UTC</td>\n",
       "      <td>2019-12-11 20:23:57 UTC</td>\n",
       "      <td>NaN</td>\n",
       "      <td>NaN</td>\n",
       "      <td>1853.95</td>\n",
       "      <td>raw</td>\n",
       "      <td>0</td>\n",
       "    </tr>\n",
       "  </tbody>\n",
       "</table>\n",
       "<p>2 rows × 26 columns</p>\n",
       "</div>"
      ],
      "text/plain": [
       "   id  source_id source_type  food_id orig_food_id orig_food_common_name  \\\n",
       "0   1          1    Nutrient        4           29                  Kiwi   \n",
       "1   2          1    Nutrient        6           53                 Onion   \n",
       "\n",
       "                      orig_food_scientific_name orig_food_part orig_source_id  \\\n",
       "0  Actinidia chinensis PLANCHON [Actinidiaceae]          Fruit            FAT   \n",
       "1                    Allium cepa L. [Liliaceae]           Bulb            FAT   \n",
       "\n",
       "  orig_source_name  ...  citation_type  creator_id  updater_id  \\\n",
       "0              FAT  ...       DATABASE         NaN         NaN   \n",
       "1              FAT  ...       DATABASE         NaN         NaN   \n",
       "\n",
       "                created_at               updated_at orig_method  \\\n",
       "0  2014-11-05 13:42:11 UTC  2019-12-11 20:23:57 UTC         NaN   \n",
       "1  2014-11-05 13:42:11 UTC  2019-12-11 20:23:57 UTC         NaN   \n",
       "\n",
       "  orig_unit_expression  standard_content  preparation_type export  \n",
       "0                  NaN           1955.00               raw      0  \n",
       "1                  NaN           1853.95               raw      0  \n",
       "\n",
       "[2 rows x 26 columns]"
      ]
     },
     "execution_count": 5,
     "metadata": {},
     "output_type": "execute_result"
    }
   ],
   "source": [
    "content = pd.read_csv(\"Content.csv\", low_memory=False)\n",
    "content.head(2)"
   ]
  },
  {
   "cell_type": "markdown",
   "id": "4e3de2d8",
   "metadata": {},
   "source": [
    "## Creating the Graph"
   ]
  },
  {
   "cell_type": "markdown",
   "id": "a74c1939",
   "metadata": {},
   "source": [
    "The graph for this lab has three types of nodes: Foods, Food Groups, and Recipes. The edges between the nodes are between foods and the food group they're in, and between recipes and the ingredients used in them. To create the graph, I used networkx because it easy to use with graph algorithms. "
   ]
  },
  {
   "cell_type": "code",
   "execution_count": 6,
   "id": "77cccbc9",
   "metadata": {},
   "outputs": [
    {
     "data": {
      "text/plain": [
       "'2.6.3'"
      ]
     },
     "execution_count": 6,
     "metadata": {},
     "output_type": "execute_result"
    }
   ],
   "source": [
    "import networkx as nx\n",
    "nx.__version__"
   ]
  },
  {
   "cell_type": "code",
   "execution_count": 7,
   "id": "7cabfda5",
   "metadata": {},
   "outputs": [],
   "source": [
    "food_graph = nx.Graph()"
   ]
  },
  {
   "cell_type": "markdown",
   "id": "cd5dd750",
   "metadata": {},
   "source": [
    "### Adding food and group nodes/edges"
   ]
  },
  {
   "cell_type": "markdown",
   "id": "b7a67833",
   "metadata": {},
   "source": [
    "First, I want to add two types of nodes: the individual foods and food groups. I also add edges between them if the ingredient is in that food group."
   ]
  },
  {
   "cell_type": "code",
   "execution_count": 8,
   "id": "96bfb589",
   "metadata": {},
   "outputs": [],
   "source": [
    "avoid = [\"salt\", \"water\"]\n",
    "\n",
    "for index, row in food_db.iterrows():\n",
    "    if(row['name'].lower() not in avoid):\n",
    "        food_graph.add_node(row['name'].lower(), label = \"FOOD\") \n",
    "        food_graph.add_node(row['food_subgroup'], label = \"GROUP\")\n",
    "        food_graph.add_edge(row['name'].lower(), row['food_subgroup'], label = \"IN_GROUP\")"
   ]
  },
  {
   "cell_type": "markdown",
   "id": "e9b450c4",
   "metadata": {},
   "source": [
    "### Adding Food Part and Source Type nodes/edges to graph"
   ]
  },
  {
   "cell_type": "markdown",
   "id": "4dd0cda8",
   "metadata": {},
   "source": [
    "Next, I add the data from compounds to the graph. This includes nodes for food parts and source types. Edges are also added between foods that have these types."
   ]
  },
  {
   "cell_type": "code",
   "execution_count": 9,
   "id": "96137d67",
   "metadata": {
    "scrolled": true
   },
   "outputs": [],
   "source": [
    "ingreds = dict()\n",
    "for index, row in food_db.iterrows():\n",
    "    ingreds[row['name'].lower()] = []"
   ]
  },
  {
   "cell_type": "code",
   "execution_count": 10,
   "id": "508ee517",
   "metadata": {},
   "outputs": [],
   "source": [
    "for index, row in content.iterrows():\n",
    "    if type(row['orig_food_common_name']) == str:\n",
    "        food = row['orig_food_common_name'].lower()\n",
    "        if food in ingreds:\n",
    "            food_graph.add_node(row['orig_food_part'], label=\"FOOD_PART\")\n",
    "            food_graph.add_edge(row['orig_food_part'], food, label='PART')\n",
    "        \n",
    "            food_graph.add_node(row['source_type'], label='SOURCE_TYPE')\n",
    "            food_graph.add_edge(row['source_type'], food, label='SOURCE')\n",
    "        "
   ]
  },
  {
   "cell_type": "markdown",
   "id": "d1e24b49",
   "metadata": {},
   "source": [
    "### Adding Recipe nodes/edges to graph"
   ]
  },
  {
   "cell_type": "markdown",
   "id": "7edb67e3",
   "metadata": {},
   "source": [
    "Next up is adding the recipe nodes and edges. To do this, I loop through all the recipes in the database and add each as their own node under its id. Then, I loop through the ingredients listed and add an edge to every ingredient found in the recipe."
   ]
  },
  {
   "cell_type": "code",
   "execution_count": 11,
   "id": "1a886382",
   "metadata": {},
   "outputs": [],
   "source": [
    "r_d = dict()\n",
    "for index, row in recipe.iterrows():\n",
    "    r_d[str(row['id'])] = []"
   ]
  },
  {
   "cell_type": "code",
   "execution_count": 12,
   "id": "901cc79e",
   "metadata": {},
   "outputs": [],
   "source": [
    "spec_char = ['\\[', '\\]', '\\'']\n",
    "for index, row in recipe.iterrows():  #Iterates through each recipe\n",
    "    food_graph.add_node(row['id'], label=\"RECIPE\")\n",
    "    ings = row['ingredients'].split(',')\n",
    "    \n",
    "    for i in ings: #iterates through each ingredient in recipe\n",
    "        i = i.strip(\" \\[\\]\\'\").lower()\n",
    "        if(i in ingreds): #ingredient i in recipe\n",
    "            food_graph.add_edge(row[\"id\"], i, label=\"IN_RECIPE\")\n",
    "\n",
    "#r_d is filtered recipe dict, where each recipe has a list of ingredients that exist in ingreds       "
   ]
  },
  {
   "cell_type": "code",
   "execution_count": 13,
   "id": "b57c4ceb",
   "metadata": {},
   "outputs": [],
   "source": [
    "r_list = list(r_d.items()) #list version of r_d"
   ]
  },
  {
   "cell_type": "markdown",
   "id": "37169ccf",
   "metadata": {},
   "source": [
    "### Plotting\n",
    "\n",
    "Now that all the necessary nodes and edges have been added to the graph, we're able to take a look at what the graph looks like. Since there is a large network of edges, I am only showing one food, papaya, and its edges."
   ]
  },
  {
   "cell_type": "code",
   "execution_count": 39,
   "id": "c058f26a",
   "metadata": {},
   "outputs": [],
   "source": [
    "import matplotlib.pyplot as plt\n",
    "%matplotlib inline\n",
    "\n",
    "def get_all_adj_nodes(list_in):\n",
    "    sub_graph=set()\n",
    "    for m in list_in:\n",
    "        sub_graph.add(m)\n",
    "        for e in food_graph.neighbors(m):        \n",
    "                sub_graph.add(e)\n",
    "    return list(sub_graph)\n",
    "def draw_sub_graph(sub_graph, title):\n",
    "    subgraph = food_graph.subgraph(sub_graph)\n",
    "    colors=[]\n",
    "    for e in subgraph.nodes():\n",
    "        if food_graph.nodes[e]['label']==\"FOOD\":\n",
    "            colors.append('orange')\n",
    "        elif food_graph.nodes[e]['label']==\"GROUP\":\n",
    "            colors.append('red')\n",
    "        elif food_graph.nodes[e]['label']==\"RECIPE\":\n",
    "            colors.append('blue')\n",
    "        elif food_graph.nodes[e]['label']==\"FOOD_PART\":\n",
    "            colors.append('yellow')\n",
    "        elif food_graph.nodes[e]['label']==\"SOURCE_TYPE\":\n",
    "            colors.append('green')\n",
    "\n",
    "    #plt.figure(figsize=(8,8))\n",
    "    nx.draw_networkx(subgraph, with_labels=True, font_weight = 'bold' ,node_color=colors, edge_color=\"gray\", label=subgraph.nodes())\n",
    "    plt.title(title + \"\\n\\n Orange = Food, Red = Group, Blue = Recipe \\n Yellow = Food Part, Green = Source Type\")\n",
    "    \n",
    "    plt.show()"
   ]
  },
  {
   "cell_type": "code",
   "execution_count": 40,
   "id": "995e047a",
   "metadata": {
    "scrolled": true
   },
   "outputs": [
    {
     "data": {
      "image/png": "[encoded data removed]",
      "text/plain": [
       "<Figure size 432x288 with 1 Axes>"
      ]
     },
     "metadata": {},
     "output_type": "display_data"
    }
   ],
   "source": [
    "list_in=[\"papaya\"]\n",
    "sub_graph = get_all_adj_nodes(list_in)\n",
    "title = \"Papaya Nodes + Edges\"\n",
    "draw_sub_graph(sub_graph, title)"
   ]
  },
  {
   "cell_type": "markdown",
   "id": "806db1db",
   "metadata": {},
   "source": [
    "## Recommendation algrorithm\n",
    "\n",
    "With the completed graph, we are able to get recommended ingredients that are similar to the inputted ingredient. This is done by first getting all of the node's neighbors (other nodes it has edges to). Then, it looks into their neighbors to see which foods share that neighbor. With this information, the ademic-adar index is calculated. This index was created to predict links in a social network based on how many links it shares with other nodes. The number itself is the inverse logarithmic degree centrality of the shared neighbors. A higher index shows a higher corrolation between the nodes."
   ]
  },
  {
   "cell_type": "code",
   "execution_count": 16,
   "id": "e111f403",
   "metadata": {},
   "outputs": [],
   "source": [
    "import math\n",
    "import numpy as np"
   ]
  },
  {
   "cell_type": "code",
   "execution_count": 24,
   "id": "f96fc0d1",
   "metadata": {},
   "outputs": [],
   "source": [
    "#algorithm adapted from https://www.kaggle.com/code/yclaudel/recommendation-engine-with-networkx/notebook\n",
    "def get_recommendation(root):\n",
    "    commons_dict = {}\n",
    "    for e in food_graph.neighbors(root):\n",
    "        for e2 in food_graph.neighbors(e):\n",
    "            if e2==root:\n",
    "                continue\n",
    "            if ('label' in food_graph.nodes[e2]) and (food_graph.nodes[e2]['label']==\"FOOD\"):\n",
    "                commons = commons_dict.get(e2)\n",
    "                if commons==None:\n",
    "                    commons_dict.update({e2 : [e]})\n",
    "                else:\n",
    "                    commons.append(e)\n",
    "                    commons_dict.update({e2 : commons})\n",
    "    food=[]\n",
    "    weight=[]\n",
    "    for key, values in commons_dict.items():\n",
    "        w=0.0\n",
    "        for e in values:\n",
    "            w=w+1/math.log(food_graph.degree(e))\n",
    "        food.append(key) \n",
    "        weight.append(w)\n",
    "    \n",
    "    result = pd.Series(data=np.array(weight),index=food)\n",
    "    result.sort_values(inplace=True,ascending=False)        \n",
    "    return result;"
   ]
  },
  {
   "cell_type": "markdown",
   "id": "2320070d",
   "metadata": {},
   "source": [
    "## Results"
   ]
  },
  {
   "cell_type": "markdown",
   "id": "fe11771a",
   "metadata": {},
   "source": [
    "Now we get to test the algorithm. "
   ]
  },
  {
   "cell_type": "code",
   "execution_count": 25,
   "id": "0fd75181",
   "metadata": {
    "scrolled": true
   },
   "outputs": [
    {
     "name": "stdout",
     "output_type": "stream",
     "text": [
      "\n",
      "-- Ingredients to use with  papaya --\n",
      "\n",
      "mango         40.161473\n",
      "sugar         33.973846\n",
      "honey         29.470126\n",
      "banana        23.460476\n",
      "lime          21.058116\n",
      "olive oil     15.348190\n",
      "pineapple     12.937924\n",
      "red onion     11.718729\n",
      "lemon          9.297400\n",
      "strawberry     8.407449\n",
      "dtype: float64\n"
     ]
    }
   ],
   "source": [
    "recommend = \"papaya\"\n",
    "result = get_recommendation(recommend)\n",
    "print(\"\\n-- Ingredients to use with \", recommend, \"--\\n\")\n",
    "print(result[0:10]) "
   ]
  },
  {
   "cell_type": "markdown",
   "id": "754d9090",
   "metadata": {},
   "source": [
    "So, if you're making a recipe with papaya, these are the 10 ingredients most recommended to add to it!"
   ]
  }
 ],
 "metadata": {
  "kernelspec": {
   "display_name": "Python 3 (ipykernel)",
   "language": "python",
   "name": "python3"
  },
  "language_info": {
   "codemirror_mode": {
    "name": "ipython",
    "version": 3
   },
   "file_extension": ".py",
   "mimetype": "text/x-python",
   "name": "python",
   "nbconvert_exporter": "python",
   "pygments_lexer": "ipython3",
   "version": "3.8.10"
  }
 },
 "nbformat": 4,
 "nbformat_minor": 5
}
